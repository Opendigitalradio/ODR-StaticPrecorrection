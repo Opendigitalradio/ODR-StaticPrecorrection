{
 "cells": [
  {
   "cell_type": "code",
   "execution_count": null,
   "metadata": {},
   "outputs": [],
   "source": [
    "%matplotlib inline\n",
    "import matplotlib.pyplot as plt\n",
    "import numpy as np\n",
    "import time\n",
    "import src.gen_source as gen_source\n",
    "from guppy import hpy \n",
    "import mydab\n",
    "\n",
    "import tcp_async\n",
    "import tcp_sync\n",
    "\n",
    "from live_analyse_py import live_analyse_py"
   ]
  },
  {
   "cell_type": "code",
   "execution_count": null,
   "metadata": {},
   "outputs": [],
   "source": [
    "try:\n",
    "    __IPYTHON__\n",
    "    reload(tcp_async)\n",
    "    reload(tcp_sync)\n",
    "    reload(gen_source)\n",
    "    reload(mydab)\n",
    "except:\n",
    "    pass"
   ]
  },
  {
   "cell_type": "code",
   "execution_count": null,
   "metadata": {},
   "outputs": [],
   "source": [
    "sync = tcp_sync.UhdSyncMsg(packet_size=4*8192,\n",
    "                           packet_type=\"\".join([\"f\"]*8192))\n",
    "async = tcp_async.UhdAsyncMsg()"
   ]
  },
  {
   "cell_type": "code",
   "execution_count": null,
   "metadata": {},
   "outputs": [],
   "source": [
    "top = live_analyse_py()"
   ]
  },
  {
   "cell_type": "code",
   "execution_count": null,
   "metadata": {},
   "outputs": [],
   "source": [
    "samp_rate = 4000000 #samples / second\n",
    "frequency_0  = samp_rate/10. #cycles / second\n",
    "frequency_1  = samp_rate/9. #cycles / second\n",
    "fft_size = 8192"
   ]
  },
  {
   "cell_type": "code",
   "execution_count": null,
   "metadata": {},
   "outputs": [],
   "source": [
    "top.start()"
   ]
  },
  {
   "cell_type": "code",
   "execution_count": null,
   "metadata": {},
   "outputs": [],
   "source": [
    "sync.has_msg()"
   ]
  },
  {
   "cell_type": "code",
   "execution_count": null,
   "metadata": {},
   "outputs": [],
   "source": [
    "import peakutils\n",
    "def score(msg, frequency_0, frequency_1, samp_rate):\n",
    "    frequency_0_idx = np.round(frequency_0 / samp_rate * fft_size).astype(int)\n",
    "    frequency_1_idx = np.round(frequency_1 / samp_rate * fft_size).astype(int)\n",
    "    frequency_idx_diff = frequency_1_idx - frequency_0_idx\n",
    "    \n",
    "    start = frequency_0_idx % frequency_idx_diff + frequency_idx_diff / 2.\n",
    "    start = np.round(start).astype(int)\n",
    "    end   = msg.shape[0] - frequency_idx_diff - (msg.shape[0] - start) % frequency_idx_diff\n",
    "    \n",
    "    msg_cut = msg[start:end]\n",
    "    \n",
    "    msg_cut = msg_cut.reshape(-1, frequency_idx_diff)\n",
    "    \n",
    "    msg_peaks = np.max(msg_cut, axis=1)\n",
    "    #plt.plot(msg_peaks, \"ro\")\n",
    "    \n",
    "    inter_mod = \\\n",
    "    (0.5 * (msg_peaks[8]/msg_peaks[7] + msg_peaks[9]/msg_peaks[10]),\n",
    "     0.5 * (msg_peaks[8]/msg_peaks[6] + msg_peaks[9]/msg_peaks[11]),\n",
    "     0.5 * (msg_peaks[8]/msg_peaks[5] + msg_peaks[9]/msg_peaks[12]),\n",
    "     0.5 * (msg_peaks[8]/msg_peaks[4] + msg_peaks[9]/msg_peaks[13]),\n",
    "     0.5 * (msg_peaks[8]/msg_peaks[3] + msg_peaks[9]/msg_peaks[14]),\n",
    "     0.5 * (msg_peaks[8]/msg_peaks[2] + msg_peaks[9]/msg_peaks[15]),\n",
    "     0.5 * (msg_peaks[8]/msg_peaks[1] + msg_peaks[9]/msg_peaks[16]))\n",
    "    \n",
    "    return(inter_mod)\n"
   ]
  },
  {
   "cell_type": "code",
   "execution_count": null,
   "metadata": {},
   "outputs": [],
   "source": [
    "import itertools\n",
    "x = np.linspace(-0.1, 0.1, num = 5)\n",
    "l = list(itertools.product(x,x,x,x,x))\n",
    "mag = [sum(map(lambda x:x*x,el)) for el in l]\n",
    "idx = list(np.argsort(mag))\n",
    "l = list(np.array(l)[idx])\n",
    "len(l)"
   ]
  },
  {
   "cell_type": "code",
   "execution_count": null,
   "metadata": {},
   "outputs": [],
   "source": [
    "top.set_txgain(84)\n",
    "sync.has_msg()\n",
    "msgs = np.array(sync.get_msgs(2))\n",
    "fft = np.fft.fftshift(msgs[0])\n",
    "#plt.plot(fft)\n",
    "#plt.plot((4000 - f, 4000 -f),(-180,-40))\n",
    "\n",
    "mydab.calc_signal_sholder_ratio(fft, fft_size, samp_rate)"
   ]
  },
  {
   "cell_type": "code",
   "execution_count": null,
   "metadata": {},
   "outputs": [],
   "source": [
    "def meas(i):\n",
    "    import sys\n",
    "    sys.stdout.write(str(i) + \" \")\n",
    "    top.set_txgain(i)\n",
    "    sync.has_msg()\n",
    "    msgs = np.array(sync.get_msgs(10))\n",
    "    \n",
    "    res = []\n",
    "    for msg in msgs:\n",
    "        fft = np.fft.fftshift(msg)\n",
    "        res.append(mydab.calc_signal_sholder_ratio(fft, fft_size, samp_rate))\n",
    "    return np.mean(res)"
   ]
  },
  {
   "cell_type": "code",
   "execution_count": null,
   "metadata": {},
   "outputs": [],
   "source": [
    "res = [meas(i) for i in range(89)]"
   ]
  },
  {
   "cell_type": "code",
   "execution_count": null,
   "metadata": {},
   "outputs": [],
   "source": [
    "plt.plot(res)\n",
    "plt.title(\"DAB sholders\")\n",
    "plt.xlabel(\"tx gain [db]\")\n",
    "plt.ylabel(\"signal - sholder [db]\")"
   ]
  },
  {
   "cell_type": "code",
   "execution_count": null,
   "metadata": {},
   "outputs": [],
   "source": [
    "top.set_txgain(84)\n",
    "for el in l:\n",
    "    t2 = time.time()\n",
    "    path = gen_source.gen_file(frequency_0=frequency_0,\n",
    "                               frequency_1=frequency_1,\n",
    "                               samp_rate=samp_rate,\n",
    "                               coefs = el,\n",
    "                               path='./np_twotone',\n",
    "                               count = 10\n",
    "                               )\n",
    "    #a_load = np.fromfile(path, dtype=np.complex64)\n",
    "    #plt.plot(a_load.real[0:100])\n",
    "    \n",
    "    sync.has_msg()\n",
    "    np.array(sync.get_msgs(2))\n",
    "    msgs = np.array(sync.get_msgs(5))\n",
    "    scores = [np.max(score(msg, frequency_0, frequency_1, samp_rate)) for msg in msgs]\n",
    "    inter_mod_avg = np.mean(scores)\n",
    "    inter_mod_var = np.var(scores)\n",
    "    msg = msgs[0]\n",
    "    \n",
    "    \n",
    "    param_str = \"_\".join([\"%.3f\" % f for f in el])\n",
    "    print(\"inter_mod %.3f +- %.3f, %s\" % (inter_mod_avg, inter_mod_var, param_str))\n",
    "    \n",
    "    plt.plot(msg)\n",
    "    plt.savefig(\"/tmp/out/inter_mod_%.3f_+-%.3f_%s.png\" % (inter_mod_avg, inter_mod_var, param_str))\n",
    "    plt.clf()\n",
    "    \n",
    "    a = np.fromfile(\"./np_twotone\", dtype=np.complex64)\n",
    "    plt.plot(a.real)\n",
    "    plt.savefig(\"/tmp/out/inter_mod_%.3f_+-%.3f_%s_wave.png\" % (inter_mod_avg, inter_mod_var, param_str))\n",
    "    plt.clf()\n",
    "    #h = hpy() \n",
    "    #print h.heap()\n",
    "    print(time.time() - t2)"
   ]
  },
  {
   "cell_type": "code",
   "execution_count": null,
   "metadata": {},
   "outputs": [],
   "source": []
  },
  {
   "cell_type": "code",
   "execution_count": null,
   "metadata": {},
   "outputs": [],
   "source": [
    "sync.stop()\n",
    "async.stop()\n",
    "top.stop()\n",
    "top.wait()"
   ]
  },
  {
   "cell_type": "code",
   "execution_count": null,
   "metadata": {},
   "outputs": [],
   "source": [
    "path = gen_source.gen_file(frequency_0=frequency_0,\n",
    "                           frequency_1=frequency_1,\n",
    "                           x1 = 0,\n",
    "                           x2 = 0,\n",
    "                           x3 = 0,\n",
    "                           x4 = 0,\n",
    "                           samp_rate=samp_rate,\n",
    "                           path='./np_twotone')\n",
    "a_load = np.fromfile(path, dtype=np.complex64)\n",
    "plt.plot(a_load.real[0:100])"
   ]
  },
  {
   "cell_type": "code",
   "execution_count": null,
   "metadata": {},
   "outputs": [],
   "source": []
  },
  {
   "cell_type": "code",
   "execution_count": null,
   "metadata": {},
   "outputs": [],
   "source": [
    "gen_source.gen_file_d(800000, 1000000, 0, 0.5, 0, 0, 4000000, count = 5)"
   ]
  },
  {
   "cell_type": "code",
   "execution_count": null,
   "metadata": {},
   "outputs": [],
   "source": [
    "a2 = np.fromfile(\"./np_twotone\", dtype=np.complex64)"
   ]
  },
  {
   "cell_type": "code",
   "execution_count": null,
   "metadata": {},
   "outputs": [],
   "source": [
    "plt.plot(a.real)\n",
    "plt.plot(a2.real)"
   ]
  },
  {
   "cell_type": "code",
   "execution_count": null,
   "metadata": {},
   "outputs": [],
   "source": []
  },
  {
   "cell_type": "code",
   "execution_count": null,
   "metadata": {},
   "outputs": [],
   "source": []
  },
  {
   "cell_type": "code",
   "execution_count": null,
   "metadata": {},
   "outputs": [],
   "source": []
  },
  {
   "cell_type": "code",
   "execution_count": null,
   "metadata": {},
   "outputs": [],
   "source": []
  },
  {
   "cell_type": "code",
   "execution_count": null,
   "metadata": {},
   "outputs": [],
   "source": []
  }
 ],
 "metadata": {
  "kernelspec": {
   "display_name": "Python 2",
   "language": "python",
   "name": "python2"
  },
  "language_info": {
   "codemirror_mode": {
    "name": "ipython",
    "version": 2
   },
   "file_extension": ".py",
   "mimetype": "text/x-python",
   "name": "python",
   "nbconvert_exporter": "python",
   "pygments_lexer": "ipython2"
  }
 },
 "nbformat": 4,
 "nbformat_minor": 1
}
